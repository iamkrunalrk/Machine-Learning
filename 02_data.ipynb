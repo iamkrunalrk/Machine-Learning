{
 "cells": [
  {
   "cell_type": "markdown",
   "metadata": {},
   "source": [
    "# Basics of Data"
   ]
  },
  {
   "cell_type": "markdown",
   "metadata": {},
   "source": [
    "### What is Data?\n",
    "Data refers to any piece of information that can be collected, stored, and processed. In the context of machine learning, data is the raw material that algorithms use to learn patterns and make predictions. Data can come in various forms, including text, images, audio, video, and more."
   ]
  },
  {
   "cell_type": "markdown",
   "metadata": {},
   "source": [
    "## Types of Data:\n",
    "###  Numerical Data:\n",
    "\n",
    "Numerical data represents quantities and can be measured. It can be further categorized into continuous and discrete data.\n",
    "* Continuous Data: Continuous data can take any value within a certain range. Examples include height, weight, temperature, and age.\n",
    "* Discrete Data: Discrete data consists of distinct, separate values. Examples include the number of pets, the count of items, and the number of people.\n",
    "\n",
    "### Categorical Data:\n",
    "\n",
    "Categorical data represents qualities or characteristics that have distinct categories. It can be further classified into nominal and ordinal data.\n",
    "\n",
    "* Nominal Data: Nominal data doesn't have any inherent order. Examples include colors, genders, and types of animals.\n",
    "* Ordinal Data: Ordinal data has a clear order or ranking between categories. Examples include education levels (e.g., high school, college, graduate) or customer satisfaction ratings (e.g., very satisfied, satisfied, dissatisfied)."
   ]
  },
  {
   "cell_type": "markdown",
   "metadata": {},
   "source": [
    "### Data Preprocessing:\n",
    "Data preprocessing is a critical step in preparing your data for machine learning. Raw data often contains noise, inconsistencies, and missing values, which can lead to inaccurate models. Data preprocessing involves cleaning and transforming the data to make it suitable for analysis.\n",
    "\n",
    "* Data Cleaning:\n",
    "\n",
    "Data cleaning involves identifying and rectifying errors or inconsistencies in the dataset."
   ]
  },
  {
   "cell_type": "code",
   "execution_count": null,
   "metadata": {},
   "outputs": [],
   "source": [
    "import pandas as pd\n",
    "\n",
    "data = pd.read_csv('data/data.csv')\n",
    "\n",
    "# Remove duplicates\n",
    "data = data.drop_duplicates()\n",
    "\n",
    "# Handle outliers (example: removing values above a certain threshold)\n",
    "data = data[data['age'] < 100]\n"
   ]
  },
  {
   "cell_type": "markdown",
   "metadata": {},
   "source": [
    "* Data Normalization:\n",
    "\n",
    "Data normalization (also called data scaling) is the process of transforming data to have a consistent scale."
   ]
  },
  {
   "cell_type": "code",
   "execution_count": null,
   "metadata": {},
   "outputs": [],
   "source": [
    "from sklearn.preprocessing import MinMaxScaler\n",
    "\n",
    "scaler = MinMaxScaler()\n",
    "data['age'] = scaler.fit_transform(data[['age']])"
   ]
  },
  {
   "cell_type": "markdown",
   "metadata": {},
   "source": [
    "* Hiding missing values\n",
    "Missing values are gaps in the data where no value is recorded for a certain variable."
   ]
  },
  {
   "cell_type": "code",
   "execution_count": null,
   "metadata": {},
   "outputs": [],
   "source": [
    "# drop rows with missing values\n",
    "data = data.dropna()\n",
    "\n",
    "# Filling missing values with mena value\n",
    "data['income'].fillna(data['income'].mean(), inplace=True)"
   ]
  },
  {
   "cell_type": "markdown",
   "metadata": {},
   "source": [
    "# Exploratory Data Analysis (EDA):\n",
    "\n",
    "### Understanding Your Data Through Summary Statistics:\n",
    "Summary statistics provide a concise overview of key properties of your data. These statistics help you understand the distribution, central tendency, variability, and potential anomalies in your dataset.\n",
    "\n",
    "Common summary statistics include:\n",
    "\n",
    "* Mean: The average value of a variable.\n",
    "* Median: The middle value of a variable when the data is sorted.\n",
    "* Standard Deviation: A measure of how spread out the values are around the mean.\n",
    "* Minimum and Maximum: The smallest and largest values in the dataset.\n",
    "* Percentiles: Values that divide the data into specified percentiles. For example, the 25th percentile (Q1) is the value below which 25% of the data falls."
   ]
  },
  {
   "cell_type": "code",
   "execution_count": null,
   "metadata": {},
   "outputs": [],
   "source": [
    "# Calculate summary statistics\n",
    "\n",
    "mean_age = data['age'].mean()\n",
    "median_income = data['income'].median()\n",
    "std_dev_height = data['height'].std()\n",
    "\n",
    "print(f\"Mean age: {mean_age}\")\n",
    "print(f\"Median Income: {median_income}\")\n",
    "print(f\"Standard Deviation of Height: {std_dev_height}\")"
   ]
  },
  {
   "cell_type": "markdown",
   "metadata": {},
   "source": [
    "### Vizualization of EDA:\n",
    "Visualizations help you gain a deeper understanding of your data by providing a graphical representation of its distribution, relationships, and trends. Here are three important types of visualizations often used in EDA:"
   ]
  },
  {
   "cell_type": "markdown",
   "metadata": {},
   "source": [
    "- Histogram:\n",
    "A histogram is a graphical representation of the distribution of numerical data. It divides the data into bins and displays the frequency or count of data points in each bin."
   ]
  },
  {
   "cell_type": "code",
   "execution_count": null,
   "metadata": {},
   "outputs": [],
   "source": []
  },
  {
   "cell_type": "markdown",
   "metadata": {},
   "source": []
  },
  {
   "cell_type": "code",
   "execution_count": null,
   "metadata": {},
   "outputs": [],
   "source": []
  },
  {
   "cell_type": "markdown",
   "metadata": {},
   "source": []
  },
  {
   "cell_type": "code",
   "execution_count": null,
   "metadata": {},
   "outputs": [],
   "source": []
  },
  {
   "cell_type": "markdown",
   "metadata": {},
   "source": []
  },
  {
   "cell_type": "code",
   "execution_count": null,
   "metadata": {},
   "outputs": [],
   "source": []
  },
  {
   "cell_type": "markdown",
   "metadata": {},
   "source": []
  },
  {
   "cell_type": "code",
   "execution_count": null,
   "metadata": {},
   "outputs": [],
   "source": []
  },
  {
   "cell_type": "markdown",
   "metadata": {},
   "source": []
  },
  {
   "cell_type": "code",
   "execution_count": null,
   "metadata": {},
   "outputs": [],
   "source": []
  },
  {
   "cell_type": "markdown",
   "metadata": {},
   "source": []
  },
  {
   "cell_type": "code",
   "execution_count": null,
   "metadata": {},
   "outputs": [],
   "source": []
  },
  {
   "cell_type": "markdown",
   "metadata": {},
   "source": []
  }
 ],
 "metadata": {
  "kernelspec": {
   "display_name": "Python 3",
   "language": "python",
   "name": "python3"
  },
  "language_info": {
   "codemirror_mode": {
    "name": "ipython",
    "version": 3
   },
   "file_extension": ".py",
   "mimetype": "text/x-python",
   "name": "python",
   "nbconvert_exporter": "python",
   "pygments_lexer": "ipython3",
   "version": "3.10.12"
  },
  "orig_nbformat": 4
 },
 "nbformat": 4,
 "nbformat_minor": 2
}
