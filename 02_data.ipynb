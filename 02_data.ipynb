{
 "cells": [
  {
   "cell_type": "markdown",
   "metadata": {},
   "source": [
    "# Basics of Data"
   ]
  },
  {
   "cell_type": "markdown",
   "metadata": {},
   "source": [
    "### What is Data?\n",
    "Data refers to any piece of information that can be collected, stored, and processed. In the context of machine learning, data is the raw material that algorithms use to learn patterns and make predictions. Data can come in various forms, including text, images, audio, video, and more."
   ]
  },
  {
   "cell_type": "markdown",
   "metadata": {},
   "source": [
    "## Types of Data:\n",
    "###  Numerical Data:\n",
    "\n",
    "Numerical data represents quantities and can be measured. It can be further categorized into continuous and discrete data.\n",
    "* Continuous Data: Continuous data can take any value within a certain range. Examples include height, weight, temperature, and age.\n",
    "* Discrete Data: Discrete data consists of distinct, separate values. Examples include the number of pets, the count of items, and the number of people.\n",
    "\n",
    "### Categorical Data:\n",
    "\n",
    "Categorical data represents qualities or characteristics that have distinct categories. It can be further classified into nominal and ordinal data.\n",
    "\n",
    "* Nominal Data: Nominal data doesn't have any inherent order. Examples include colors, genders, and types of animals.\n",
    "* Ordinal Data: Ordinal data has a clear order or ranking between categories. Examples include education levels (e.g., high school, college, graduate) or customer satisfaction ratings (e.g., very satisfied, satisfied, dissatisfied)."
   ]
  },
  {
   "cell_type": "markdown",
   "metadata": {},
   "source": [
    "### Data Preprocessing:\n",
    "Data preprocessing is a critical step in preparing your data for machine learning. Raw data often contains noise, inconsistencies, and missing values, which can lead to inaccurate models. Data preprocessing involves cleaning and transforming the data to make it suitable for analysis.\n",
    "\n",
    "* Data Cleaning:\n",
    "\n",
    "Data cleaning involves identifying and rectifying errors or inconsistencies in the dataset."
   ]
  },
  {
   "cell_type": "code",
   "execution_count": null,
   "metadata": {},
   "outputs": [],
   "source": [
    "import pandas as pd\n",
    "\n",
    "data = pd.read_csv('data/data.csv')\n",
    "\n",
    "# Remove duplicates\n",
    "data = data.drop_duplicates()\n",
    "\n",
    "# Handle outliers (example: removing values above a certain threshold)\n",
    "data = data[data['age'] < 100]\n"
   ]
  },
  {
   "cell_type": "markdown",
   "metadata": {},
   "source": []
  },
  {
   "cell_type": "code",
   "execution_count": null,
   "metadata": {},
   "outputs": [],
   "source": []
  },
  {
   "cell_type": "markdown",
   "metadata": {},
   "source": []
  },
  {
   "cell_type": "code",
   "execution_count": null,
   "metadata": {},
   "outputs": [],
   "source": []
  },
  {
   "cell_type": "markdown",
   "metadata": {},
   "source": []
  },
  {
   "cell_type": "code",
   "execution_count": null,
   "metadata": {},
   "outputs": [],
   "source": []
  },
  {
   "cell_type": "markdown",
   "metadata": {},
   "source": []
  },
  {
   "cell_type": "markdown",
   "metadata": {},
   "source": []
  },
  {
   "cell_type": "code",
   "execution_count": null,
   "metadata": {},
   "outputs": [],
   "source": []
  }
 ],
 "metadata": {
  "kernelspec": {
   "display_name": "Python 3",
   "language": "python",
   "name": "python3"
  },
  "language_info": {
   "codemirror_mode": {
    "name": "ipython",
    "version": 3
   },
   "file_extension": ".py",
   "mimetype": "text/x-python",
   "name": "python",
   "nbconvert_exporter": "python",
   "pygments_lexer": "ipython3",
   "version": "3.10.12"
  },
  "orig_nbformat": 4
 },
 "nbformat": 4,
 "nbformat_minor": 2
}
