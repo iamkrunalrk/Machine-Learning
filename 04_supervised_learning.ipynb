{
 "cells": [
  {
   "cell_type": "markdown",
   "metadata": {},
   "source": [
    "# Supervised Learning"
   ]
  },
  {
   "cell_type": "markdown",
   "metadata": {},
   "source": [
    "### Introduction to Supervised Learning\n",
    "Supervised learning is a type of machine learning where the model is trained on a labeled dataset, meaning the dataset includes input features along with their corresponding target outputs. The goal is to learn a mapping from the input features to the target outputs so that the model can make accurate predictions on new, unseen data."
   ]
  },
  {
   "cell_type": "markdown",
   "metadata": {},
   "source": [
    "### Training and Testing Data\n",
    "In supervised learning, it's important to split your dataset into two parts: the *training dataset* and the *testing dataset*.\n",
    "\n",
    "* Training Dataset: This dataset is used to train the model. It contains both the input features and the corresponding target outputs. The model learns from this data to make predictions.\n",
    "\n",
    "* Testing Dataset: This dataset is used to evaluate the performance of the trained model. It only contains input features; the corresponding target outputs are kept hidden. The model's predictions on the testing dataset are compared to the actual target values to assess its accuracy and generalization performance."
   ]
  },
  {
   "cell_type": "markdown",
   "metadata": {},
   "source": [
    "## Regression: Predicting Continuous Values:\n",
    "Regression is a type of supervised learning where the goal is to predict a continuous numerical value as the output. The primary objective is to learn a relationship between input features and target outputs that best captures the underlying patterns in the data."
   ]
  },
  {
   "cell_type": "code",
   "execution_count": null,
   "metadata": {},
   "outputs": [],
   "source": [
    "import pandas as pd\n",
    "from sklearn.model_selection import train_test_split\n",
    "from sklearn.linear_model import LinearRegression\n",
    "from sklearn.metrics import mean_squared_error"
   ]
  },
  {
   "cell_type": "code",
   "execution_count": null,
   "metadata": {},
   "outputs": [],
   "source": [
    "# Load the dataset\n",
    "data = pd.read_csv(\"data/linear_model_data.csv\")\n",
    "\n",
    "# Split the data into training and testing datasets\n",
    "X = data[['feature1'], ['feature2']]\n",
    "y = data ['target_value']\n",
    "\n",
    "X_train, X_test, y_train, y_test = train_test_split(X, y, test_size=0.2, random_state=42)\n",
    "\n",
    "# Create and train Linear Regression Model\n",
    "model =  LinearRegression()\n",
    "model.fit(X_train, y_train)\n",
    "\n",
    "# Make prediction on the testing data\n",
    "y_prad = model.predict(X_test)\n",
    "\n",
    "# Evaluate the model\n",
    "mse = mean_squared_error(y_test, y_prad)\n",
    "print(f\"Mean Squared Error: {mse}\")"
   ]
  },
  {
   "cell_type": "markdown",
   "metadata": {},
   "source": [
    "## Classification\n",
    "\n",
    "Classification is another type of supervised learning where the goal is to predict a categorical label or class as the output. The model learns a decision boundary that separates different classes based on input features."
   ]
  },
  {
   "cell_type": "code",
   "execution_count": null,
   "metadata": {},
   "outputs": [],
   "source": [
    "from sklearn.linear_model import LogisticRegression\n",
    "from sklearn.metrics import accuracy_score, classification_report\n",
    "\n",
    "# Create and train the logostic regression model\n",
    "model_2 = LogisticRegression()\n",
    "model_2.fit(X_train, y_train)\n",
    "\n",
    "# Make prediction on the testing data\n",
    "y_prad_2 = model.predict(X_test)\n",
    "\n",
    "# Evaluate the model\n",
    "accuracy = accuracy_score(y_test, y_prad_2)\n",
    "report = classification_report(y_test, y_prad_2)\n",
    "\n",
    "print(f\"Accuracy: {accuracy}\")\n",
    "print(f\"Classification Report: {classification_report}\")"
   ]
  },
  {
   "cell_type": "markdown",
   "metadata": {},
   "source": [
    "These code examples provide a basic understanding of supervised learning, including both regression and classification tasks. You can replace the data loading parts with your own dataset and experiment with different algorithms"
   ]
  }
 ],
 "metadata": {
  "kernelspec": {
   "display_name": "Python 3",
   "language": "python",
   "name": "python3"
  },
  "language_info": {
   "codemirror_mode": {
    "name": "ipython",
    "version": 3
   },
   "file_extension": ".py",
   "mimetype": "text/x-python",
   "name": "python",
   "nbconvert_exporter": "python",
   "pygments_lexer": "ipython3",
   "version": "3.10.12"
  },
  "orig_nbformat": 4
 },
 "nbformat": 4,
 "nbformat_minor": 2
}
