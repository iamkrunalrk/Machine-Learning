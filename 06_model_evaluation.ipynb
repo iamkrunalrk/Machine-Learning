{
 "cells": [
  {
   "cell_type": "markdown",
   "metadata": {},
   "source": [
    "# Model Evaluation"
   ]
  },
  {
   "cell_type": "markdown",
   "metadata": {},
   "source": [
    "### Measuring Model Performance:\n",
    "When building machine learning models, it's crucial to assess how well they perform. Different metrics are used depending on the nature of the problem, whether it's a classification or regression task. Here are some common performance metrics:"
   ]
  },
  {
   "cell_type": "markdown",
   "metadata": {},
   "source": [
    "For Classification:\n",
    "\n",
    "- **Accuracy** : The proportion of correctly classified instances among all instances.\n",
    "\n",
    "- **Precision**: The proportion of true positive predictions among all positive predictions. It measures how many of the positive predictions were actually correct.\n",
    "\n",
    "- **Recall (Sensitivity or True Positive Rate)**: The proportion of true positive predictions among all actual positive instances. It measures how well the model identifies all actual positives.\n",
    "\n",
    "- **F1-Score**: The harmonic mean of precision and recall. It's useful when you want to balance precision and recall."
   ]
  },
  {
   "cell_type": "markdown",
   "metadata": {},
   "source": []
  },
  {
   "cell_type": "code",
   "execution_count": null,
   "metadata": {},
   "outputs": [],
   "source": []
  },
  {
   "cell_type": "markdown",
   "metadata": {},
   "source": []
  },
  {
   "cell_type": "code",
   "execution_count": null,
   "metadata": {},
   "outputs": [],
   "source": []
  },
  {
   "cell_type": "markdown",
   "metadata": {},
   "source": []
  },
  {
   "cell_type": "code",
   "execution_count": null,
   "metadata": {},
   "outputs": [],
   "source": []
  },
  {
   "cell_type": "code",
   "execution_count": null,
   "metadata": {},
   "outputs": [],
   "source": []
  }
 ],
 "metadata": {
  "language_info": {
   "name": "python"
  },
  "orig_nbformat": 4
 },
 "nbformat": 4,
 "nbformat_minor": 2
}
